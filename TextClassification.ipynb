{
 "cells": [
  {
   "cell_type": "code",
   "execution_count": 1,
   "metadata": {},
   "outputs": [],
   "source": [
    "# importing rerquired libraries and packages\n",
    "import numpy as np\n",
    "from sklearn import datasets\n",
    "from sklearn import model_selection\n",
    "from sklearn.naive_bayes import MultinomialNB\n",
    "from sklearn.metrics import classification_report, confusion_matrix\n",
    "from string import punctuation # to remove the punctuation from data \n",
    "import matplotlib.pyplot as plt"
   ]
  },
  {
   "cell_type": "code",
   "execution_count": 2,
   "metadata": {},
   "outputs": [],
   "source": [
    "data = datasets.fetch_20newsgroups() #fetching the data of 20newsgroup\n",
    "x=data.data # getting the data stored\n",
    "y=data.target # getting the target stored\n",
    "target_names = data.target_names # traget name which are classes"
   ]
  },
  {
   "cell_type": "code",
   "execution_count": 3,
   "metadata": {},
   "outputs": [],
   "source": [
    "x_train, x_test, y_train, y_test = model_selection.train_test_split(x,y,random_state = 0) #splitting the data for training and testing"
   ]
  },
  {
   "cell_type": "markdown",
   "metadata": {},
   "source": [
    "## Vocabulary function to get the vocabulary for given training data"
   ]
  },
  {
   "cell_type": "code",
   "execution_count": null,
   "metadata": {},
   "outputs": [],
   "source": [
    "# stop word are those commonly used in words in the data which does not make any sense to our analysis\n",
    "stop_words = [\"a\", \"about\", \"above\", \"after\", \"again\", \"against\", \"ain\", \"all\", \"am\", \"an\", \"and\", \"any\", \"are\", \"aren\", \"aren't\", \"as\", \"at\", \"be\", \"because\", \"been\", \"before\", \"being\", \"below\", \"between\", \"both\", \"but\", \"by\", \"can\", \"couldn\", \"couldn't\", \"d\", \"did\", \"didn\", \"didn't\", \"do\", \"does\", \"doesn\", \"doesn't\", \"doing\", \"don\", \"don't\", \"down\", \"during\", \"each\", \"few\", \"for\", \"from\", \"further\", \"had\", \"hadn\", \"hadn't\", \"has\", \"hasn\", \"hasn't\", \"have\", \"haven\", \"haven't\", \"having\", \"he\", \"her\", \"here\", \"hers\", \"herself\", \"him\", \"himself\", \"his\", \"how\", \"i\", \"if\", \"in\", \"into\", \"is\", \"isn\", \"isn't\", \"it\", \"it's\", \"its\", \"itself\", \"just\", \"ll\", \"m\", \"ma\", \"me\", \"mightn\", \"mightn't\", \"more\", \"most\", \"mustn\", \"mustn't\", \"my\", \"myself\", \"needn\", \"needn't\", \"no\", \"nor\", \"not\", \"now\", \"o\", \"of\", \"off\", \"on\", \"once\", \"only\", \"or\", \"other\", \"our\", \"ours\", \"ourselves\", \"out\", \"over\", \"own\", \"re\", \"s\", \"same\", \"shan\", \"shan't\", \"she\", \"she's\", \"should\", \"should've\", \"shouldn\", \"shouldn't\", \"so\", \"some\", \"such\", \"t\", \"than\", \"that\", \"that'll\", \"the\", \"their\", \"theirs\", \"them\", \"themselves\", \"then\", \"there\", \"these\", \"they\", \"this\", \"those\", \"through\", \"to\", \"too\", \"under\", \"until\", \"up\", \"ve\", \"very\", \"was\", \"wasn\", \"wasn't\", \"we\", \"were\", \"weren\", \"weren't\", \"what\", \"when\", \"where\", \"which\", \"while\", \"who\", \"whom\", \"why\", \"will\", \"with\", \"won\", \"won't\", \"wouldn\", \"wouldn't\", \"y\", \"you\", \"you'd\", \"you'll\", \"you're\", \"you've\", \"your\", \"yours\", \"yourself\", \"yourselves\", \"could\", \"he'd\", \"he'll\", \"he's\", \"here's\", \"how's\", \"i'd\", \"i'll\", \"i'm\", \"i've\", \"let's\", \"ought\", \"she'd\", \"she'll\", \"that's\", \"there's\", \"they'd\", \"they'll\", \"they're\", \"they've\", \"we'd\", \"we'll\", \"we're\", \"we've\", \"what's\", \"when's\", \"where's\", \"who's\", \"why's\", \"would\", \"able\", \"abst\", \"accordance\", \"according\", \"accordingly\", \"across\", \"act\", \"actually\", \"added\", \"adj\", \"affected\", \"affecting\", \"affects\", \"afterwards\", \"ah\", \"almost\", \"alone\", \"along\", \"already\", \"also\", \"although\", \"always\", \"among\", \"amongst\", \"announce\", \"another\", \"anybody\", \"anyhow\", \"anymore\", \"anyone\", \"anything\", \"anyway\", \"anyways\", \"anywhere\", \"apparently\", \"approximately\", \"arent\", \"arise\", \"around\", \"aside\", \"ask\", \"asking\", \"auth\", \"available\", \"away\", \"awfully\", \"b\", \"back\", \"became\", \"become\", \"becomes\", \"becoming\", \"beforehand\", \"begin\", \"beginning\", \"beginnings\", \"begins\", \"behind\", \"believe\", \"beside\", \"besides\", \"beyond\", \"biol\", \"brief\", \"briefly\", \"c\", \"ca\", \"came\", \"cannot\", \"can't\", \"cause\", \"causes\", \"certain\", \"certainly\", \"co\", \"com\", \"come\", \"comes\", \"contain\", \"containing\", \"contains\", \"couldnt\", \"date\", \"different\", \"done\", \"downwards\", \"due\", \"e\", \"ed\", \"edu\", \"effect\", \"eg\", \"eight\", \"eighty\", \"either\", \"else\", \"elsewhere\", \"end\", \"ending\", \"enough\", \"especially\", \"et\", \"etc\", \"even\", \"ever\", \"every\", \"everybody\", \"everyone\", \"everything\", \"everywhere\", \"ex\", \"except\", \"f\", \"far\", \"ff\", \"fifth\", \"first\", \"five\", \"fix\", \"followed\", \"following\", \"follows\", \"former\", \"formerly\", \"forth\", \"found\", \"four\", \"furthermore\", \"g\", \"gave\", \"get\", \"gets\", \"getting\", \"give\", \"given\", \"gives\", \"giving\", \"go\", \"goes\", \"gone\", \"got\", \"gotten\", \"h\", \"happens\", \"hardly\", \"hed\", \"hence\", \"hereafter\", \"hereby\", \"herein\", \"heres\", \"hereupon\", \"hes\", \"hi\", \"hid\", \"hither\", \"home\", \"howbeit\", \"however\", \"hundred\", \"id\", \"ie\", \"im\", \"immediate\", \"immediately\", \"importance\", \"important\", \"inc\", \"indeed\", \"index\", \"information\", \"instead\", \"invention\", \"inward\", \"itd\", \"it'll\", \"j\", \"k\", \"keep\", \"keeps\", \"kept\", \"kg\", \"km\", \"know\", \"known\", \"knows\", \"l\", \"largely\", \"last\", \"lately\", \"later\", \"latter\", \"latterly\", \"least\", \"less\", \"lest\", \"let\", \"lets\", \"like\", \"liked\", \"likely\", \"line\", \"little\", \"'ll\", \"look\", \"looking\", \"looks\", \"ltd\", \"made\", \"mainly\", \"make\", \"makes\", \"many\", \"may\", \"maybe\", \"mean\", \"means\", \"meantime\", \"meanwhile\", \"merely\", \"mg\", \"might\", \"million\", \"miss\", \"ml\", \"moreover\", \"mostly\", \"mr\", \"mrs\", \"much\", \"mug\", \"must\", \"n\", \"na\", \"name\", \"namely\", \"nay\", \"nd\", \"near\", \"nearly\", \"necessarily\", \"necessary\", \"need\", \"needs\", \"neither\", \"never\", \"nevertheless\", \"new\", \"next\", \"nine\", \"ninety\", \"nobody\", \"non\", \"none\", \"nonetheless\", \"noone\", \"normally\", \"nos\", \"noted\", \"nothing\", \"nowhere\", \"obtain\", \"obtained\", \"obviously\", \"often\", \"oh\", \"ok\", \"okay\", \"old\", \"omitted\", \"one\", \"ones\", \"onto\", \"ord\", \"others\", \"otherwise\", \"outside\", \"overall\", \"owing\", \"p\", \"page\", \"pages\", \"part\", \"particular\", \"particularly\", \"past\", \"per\", \"perhaps\", \"placed\", \"please\", \"plus\", \"poorly\", \"possible\", \"possibly\", \"potentially\", \"pp\", \"predominantly\", \"present\", \"previously\", \"primarily\", \"probably\", \"promptly\", \"proud\", \"provides\", \"put\", \"q\", \"que\", \"quickly\", \"quite\", \"qv\", \"r\", \"ran\", \"rather\", \"rd\", \"readily\", \"really\", \"recent\", \"recently\", \"ref\", \"refs\", \"regarding\", \"regardless\", \"regards\", \"related\", \"relatively\", \"research\", \"respectively\", \"resulted\", \"resulting\", \"results\", \"right\", \"run\", \"said\", \"saw\", \"say\", \"saying\", \"says\", \"sec\", \"section\", \"see\", \"seeing\", \"seem\", \"seemed\", \"seeming\", \"seems\", \"seen\", \"self\", \"selves\", \"sent\", \"seven\", \"several\", \"shall\", \"shed\", \"shes\", \"show\", \"showed\", \"shown\", \"showns\", \"shows\", \"significant\", \"significantly\", \"similar\", \"similarly\", \"since\", \"six\", \"slightly\", \"somebody\", \"somehow\", \"someone\", \"somethan\", \"something\", \"sometime\", \"sometimes\", \"somewhat\", \"somewhere\", \"soon\", \"sorry\", \"specifically\", \"specified\", \"specify\", \"specifying\", \"still\", \"stop\", \"strongly\", \"sub\", \"substantially\", \"successfully\", \"sufficiently\", \"suggest\", \"sup\", \"sure\", \"take\", \"taken\", \"taking\", \"tell\", \"tends\", \"th\", \"thank\", \"thanks\", \"thanx\", \"thats\", \"that've\", \"thence\", \"thereafter\", \"thereby\", \"thered\", \"therefore\", \"therein\", \"there'll\", \"thereof\", \"therere\", \"theres\", \"thereto\", \"thereupon\", \"there've\", \"theyd\", \"theyre\", \"think\", \"thou\", \"though\", \"thoughh\", \"thousand\", \"throug\", \"throughout\", \"thru\", \"thus\", \"til\", \"tip\", \"together\", \"took\", \"toward\", \"towards\", \"tried\", \"tries\", \"truly\", \"try\", \"trying\", \"ts\", \"twice\", \"two\", \"u\", \"un\", \"unfortunately\", \"unless\", \"unlike\", \"unlikely\", \"unto\", \"upon\", \"ups\", \"us\", \"use\", \"used\", \"useful\", \"usefully\", \"usefulness\", \"uses\", \"using\", \"usually\", \"v\", \"value\", \"various\", \"'ve\", \"via\", \"viz\", \"vol\", \"vols\", \"vs\", \"w\", \"want\", \"wants\", \"wasnt\", \"way\", \"wed\", \"welcome\", \"went\", \"werent\", \"whatever\", \"what'll\", \"whats\", \"whence\", \"whenever\", \"whereafter\", \"whereas\", \"whereby\", \"wherein\", \"wheres\", \"whereupon\", \"wherever\", \"whether\", \"whim\", \"whither\", \"whod\", \"whoever\", \"whole\", \"who'll\", \"whomever\", \"whos\", \"whose\", \"widely\", \"willing\", \"wish\", \"within\", \"without\", \"wont\", \"words\", \"world\", \"wouldnt\", \"www\", \"x\", \"yes\", \"yet\", \"youd\", \"youre\", \"z\", \"zero\", \"a's\", \"ain't\", \"allow\", \"allows\", \"apart\", \"appear\", \"appreciate\", \"appropriate\", \"associated\", \"best\", \"better\", \"c'mon\", \"c's\", \"cant\", \"changes\", \"clearly\", \"concerning\", \"consequently\", \"consider\", \"considering\", \"corresponding\", \"course\", \"currently\", \"definitely\", \"described\", \"despite\", \"entirely\", \"exactly\", \"example\", \"going\", \"greetings\", \"hello\", \"help\", \"hopefully\", \"ignored\", \"inasmuch\", \"indicate\", \"indicated\", \"indicates\", \"inner\", \"insofar\", \"it'd\", \"keep\", \"keeps\", \"novel\", \"presumably\", \"reasonably\", \"second\", \"secondly\", \"sensible\", \"serious\", \"seriously\", \"sure\", \"t's\", \"third\", \"thorough\", \"thoroughly\", \"three\", \"well\", \"wonder\", \"a\", \"about\", \"above\", \"above\", \"across\", \"after\", \"afterwards\", \"again\", \"against\", \"all\", \"almost\", \"alone\", \"along\", \"already\", \"also\", \"although\", \"always\", \"am\", \"among\", \"amongst\", \"amoungst\", \"amount\", \"an\", \"and\", \"another\", \"any\", \"anyhow\", \"anyone\", \"anything\", \"anyway\", \"anywhere\", \"are\", \"around\", \"as\", \"at\", \"back\", \"be\", \"became\", \"because\", \"become\", \"becomes\", \"becoming\", \"been\", \"before\", \"beforehand\", \"behind\", \"being\", \"below\", \"beside\", \"besides\", \"between\", \"beyond\", \"bill\", \"both\", \"bottom\", \"but\", \"by\", \"call\", \"can\", \"cannot\", \"cant\", \"co\", \"con\", \"could\", \"couldnt\", \"cry\", \"de\", \"describe\", \"detail\", \"do\", \"done\", \"down\", \"due\", \"during\", \"each\", \"eg\", \"eight\", \"either\", \"eleven\", \"else\", \"elsewhere\", \"empty\", \"enough\", \"etc\", \"even\", \"ever\", \"every\", \"everyone\", \"everything\", \"everywhere\", \"except\", \"few\", \"fifteen\", \"fify\", \"fill\", \"find\", \"fire\", \"first\", \"five\", \"for\", \"former\", \"formerly\", \"forty\", \"found\", \"four\", \"from\", \"front\", \"full\", \"further\", \"get\", \"give\", \"go\", \"had\", \"has\", \"hasnt\", \"have\", \"he\", \"hence\", \"her\", \"here\", \"hereafter\", \"hereby\", \"herein\", \"hereupon\", \"hers\", \"herself\", \"him\", \"himself\", \"his\", \"how\", \"however\", \"hundred\", \"ie\", \"if\", \"in\", \"inc\", \"indeed\", \"interest\", \"into\", \"is\", \"it\", \"its\", \"itself\", \"keep\", \"last\", \"latter\", \"latterly\", \"least\", \"less\", \"ltd\", \"made\", \"many\", \"may\", \"me\", \"meanwhile\", \"might\", \"mill\", \"mine\", \"more\", \"moreover\", \"most\", \"mostly\", \"move\", \"much\", \"must\", \"my\", \"myself\", \"name\", \"namely\", \"neither\", \"never\", \"nevertheless\", \"next\", \"nine\", \"no\", \"nobody\", \"none\", \"noone\", \"nor\", \"not\", \"nothing\", \"now\", \"nowhere\", \"of\", \"off\", \"often\", \"on\", \"once\", \"one\", \"only\", \"onto\", \"or\", \"other\", \"others\", \"otherwise\", \"our\", \"ours\", \"ourselves\", \"out\", \"over\", \"own\", \"part\", \"per\", \"perhaps\", \"please\", \"put\", \"rather\", \"re\", \"same\", \"see\", \"seem\", \"seemed\", \"seeming\", \"seems\", \"serious\", \"several\", \"she\", \"should\", \"show\", \"side\", \"since\", \"sincere\", \"six\", \"sixty\", \"so\", \"some\", \"somehow\", \"someone\", \"something\", \"sometime\", \"sometimes\", \"somewhere\", \"still\", \"such\", \"system\", \"take\", \"ten\", \"than\", \"that\", \"the\", \"their\", \"them\", \"themselves\", \"then\", \"thence\", \"there\", \"thereafter\", \"thereby\", \"therefore\", \"therein\", \"thereupon\", \"these\", \"they\", \"thickv\", \"thin\", \"third\", \"this\", \"those\", \"though\", \"three\", \"through\", \"throughout\", \"thru\", \"thus\", \"to\", \"together\", \"too\", \"top\", \"toward\", \"towards\", \"twelve\", \"twenty\", \"two\", \"un\", \"under\", \"until\", \"up\", \"upon\", \"us\", \"very\", \"via\", \"was\", \"we\", \"well\", \"were\", \"what\", \"whatever\", \"when\", \"whence\", \"whenever\", \"where\", \"whereafter\", \"whereas\", \"whereby\", \"wherein\", \"whereupon\", \"wherever\", \"whether\", \"which\", \"while\", \"whither\", \"who\", \"whoever\", \"whole\", \"whom\", \"whose\", \"why\", \"will\", \"with\", \"within\", \"without\", \"would\", \"yet\", \"you\", \"your\", \"yours\", \"yourself\", \"yourselves\", \"the\", \"a\", \"b\", \"c\", \"d\", \"e\", \"f\", \"g\", \"h\", \"i\", \"j\", \"k\", \"l\", \"m\", \"n\", \"o\", \"p\", \"q\", \"r\", \"s\", \"t\", \"u\", \"v\", \"w\", \"x\", \"y\", \"z\", \"A\", \"B\", \"C\", \"D\", \"E\", \"F\", \"G\", \"H\", \"I\", \"J\", \"K\", \"L\", \"M\", \"N\", \"O\", \"P\", \"Q\", \"R\", \"S\", \"T\", \"U\", \"V\", \"W\", \"X\", \"Y\", \"Z\", \"co\", \"op\", \"research-articl\", \"pagecount\", \"cit\", \"ibid\", \"les\", \"le\", \"au\", \"que\", \"est\", \"pas\", \"vol\", \"el\", \"los\", \"pp\", \"u201d\", \"well-b\", \"http\", \"volumtype\", \"par\", \"0o\", \"0s\", \"3a\", \"3b\", \"3d\", \"6b\", \"6o\", \"a1\", \"a2\", \"a3\", \"a4\", \"ab\", \"ac\", \"ad\", \"ae\", \"af\", \"ag\", \"aj\", \"al\", \"an\", \"ao\", \"ap\", \"ar\", \"av\", \"aw\", \"ax\", \"ay\", \"az\", \"b1\", \"b2\", \"b3\", \"ba\", \"bc\", \"bd\", \"be\", \"bi\", \"bj\", \"bk\", \"bl\", \"bn\", \"bp\", \"br\", \"bs\", \"bt\", \"bu\", \"bx\", \"c1\", \"c2\", \"c3\", \"cc\", \"cd\", \"ce\", \"cf\", \"cg\", \"ch\", \"ci\", \"cj\", \"cl\", \"cm\", \"cn\", \"cp\", \"cq\", \"cr\", \"cs\", \"ct\", \"cu\", \"cv\", \"cx\", \"cy\", \"cz\", \"d2\", \"da\", \"dc\", \"dd\", \"de\", \"df\", \"di\", \"dj\", \"dk\", \"dl\", \"do\", \"dp\", \"dr\", \"ds\", \"dt\", \"du\", \"dx\", \"dy\", \"e2\", \"e3\", \"ea\", \"ec\", \"ed\", \"ee\", \"ef\", \"ei\", \"ej\", \"el\", \"em\", \"en\", \"eo\", \"ep\", \"eq\", \"er\", \"es\", \"et\", \"eu\", \"ev\", \"ex\", \"ey\", \"f2\", \"fa\", \"fc\", \"ff\", \"fi\", \"fj\", \"fl\", \"fn\", \"fo\", \"fr\", \"fs\", \"ft\", \"fu\", \"fy\", \"ga\", \"ge\", \"gi\", \"gj\", \"gl\", \"go\", \"gr\", \"gs\", \"gy\", \"h2\", \"h3\", \"hh\", \"hi\", \"hj\", \"ho\", \"hr\", \"hs\", \"hu\", \"hy\", \"i\", \"i2\", \"i3\", \"i4\", \"i6\", \"i7\", \"i8\", \"ia\", \"ib\", \"ic\", \"ie\", \"ig\", \"ih\", \"ii\", \"ij\", \"il\", \"in\", \"io\", \"ip\", \"iq\", \"ir\", \"iv\", \"ix\", \"iy\", \"iz\", \"jj\", \"jr\", \"js\", \"jt\", \"ju\", \"ke\", \"kg\", \"kj\", \"km\", \"ko\", \"l2\", \"la\", \"lb\", \"lc\", \"lf\", \"lj\", \"ln\", \"lo\", \"lr\", \"ls\", \"lt\", \"m2\", \"ml\", \"mn\", \"mo\", \"ms\", \"mt\", \"mu\", \"n2\", \"nc\", \"nd\", \"ne\", \"ng\", \"ni\", \"nj\", \"nl\", \"nn\", \"nr\", \"ns\", \"nt\", \"ny\", \"oa\", \"ob\", \"oc\", \"od\", \"of\", \"og\", \"oi\", \"oj\", \"ol\", \"om\", \"on\", \"oo\", \"oq\", \"or\", \"os\", \"ot\", \"ou\", \"ow\", \"ox\", \"oz\", \"p1\", \"p2\", \"p3\", \"pc\", \"pd\", \"pe\", \"pf\", \"ph\", \"pi\", \"pj\", \"pk\", \"pl\", \"pm\", \"pn\", \"po\", \"pq\", \"pr\", \"ps\", \"pt\", \"pu\", \"py\", \"qj\", \"qu\", \"r2\", \"ra\", \"rc\", \"rd\", \"rf\", \"rh\", \"ri\", \"rj\", \"rl\", \"rm\", \"rn\", \"ro\", \"rq\", \"rr\", \"rs\", \"rt\", \"ru\", \"rv\", \"ry\", \"s2\", \"sa\", \"sc\", \"sd\", \"se\", \"sf\", \"si\", \"sj\", \"sl\", \"sm\", \"sn\", \"sp\", \"sq\", \"sr\", \"ss\", \"st\", \"sy\", \"sz\", \"t1\", \"t2\", \"t3\", \"tb\", \"tc\", \"td\", \"te\", \"tf\", \"th\", \"ti\", \"tj\", \"tl\", \"tm\", \"tn\", \"tp\", \"tq\", \"tr\", \"ts\", \"tt\", \"tv\", \"tx\", \"ue\", \"ui\", \"uj\", \"uk\", \"um\", \"un\", \"uo\", \"ur\", \"ut\", \"va\", \"wa\", \"vd\", \"wi\", \"vj\", \"vo\", \"wo\", \"vq\", \"vt\", \"vu\", \"x1\", \"x2\", \"x3\", \"xf\", \"xi\", \"xj\", \"xk\", \"xl\", \"xn\", \"xo\", \"xs\", \"xt\", \"xv\", \"xx\", \"y2\", \"yj\", \"yl\", \"yr\", \"ys\", \"yt\", \"zi\", \"zz\",\"st\",\"nd\",\"th\",\"rd\"]\n",
    "\n",
    "# function to build vocabulary dictionary which will have words as keys and their frequencies as its value\n",
    "def get_vocabulary(doc):\n",
    "    voc={} # initalizing the vocabulary dictionary\n",
    "    count=1\n",
    "    # to remove the puctuations\n",
    "    for d in doc: # going through all the documents\n",
    "        a='' #initializing an empty string\n",
    "        for c in d: # going through all the character to remove the punctuation\n",
    "            if c not in punctuation:\n",
    "                a += c\n",
    "        words = a.lower().split() # splitting the current document with space to get the words\n",
    "    \n",
    "        for w in words: # going through all the words\n",
    "            if (w not in stop_words) and (w.isalpha()): # checking whether word is in stop word or not and word is alphabatical or not to remove the username or E-mail id kind of things\n",
    "                voc[w]=voc.get(w,0) + 1 # updating the vocabulary dictionary\n",
    "    \n",
    "        # to get the idea about the progess, it prints the progress of this function\n",
    "        if count%100 ==0:\n",
    "            perc= count*100//len(doc)\n",
    "            if perc<=98:\n",
    "                print('\\rprogress ',perc+2,'%',sep='',end='',flush = True)\n",
    "        count+=1\n",
    "\n",
    "    return voc "
   ]
  },
  {
   "cell_type": "markdown",
   "metadata": {},
   "source": [
    "## Function to make dataset from given documents"
   ]
  },
  {
   "cell_type": "code",
   "execution_count": 4,
   "metadata": {},
   "outputs": [],
   "source": [
    "def get_data(doc,feature):\n",
    "    result=np.zeros((len(doc),len(feature))) # intializing the 2D array for our dataset\n",
    "    count=1\n",
    "    # to remove the puctuations\n",
    "    for i in range(len(doc)): # going through all the documents\n",
    "        a='' #initializing an empty string\n",
    "        for c in doc[i]: # going through all the character to remove the punctuation\n",
    "            if c not in punctuation:\n",
    "                a += c\n",
    "        words = a.lower().split() # splitting the current document with space to get the words\n",
    "        \n",
    "        # making the update into our 2D array if word is present in feature list\n",
    "        for w in words: # going through all the words\n",
    "            if w in feature: # updating the count in 2D array if given word is in feature list\n",
    "                j = feature.index(w)\n",
    "                result[i,j]+=1\n",
    "        \n",
    "        # to get the idea about the progess, it prints the progress of this function\n",
    "        if count%100 ==0:\n",
    "            perc= count*100//len(doc)\n",
    "            if perc<=98:\n",
    "                print('\\rprogress ',perc+2,'%',sep='',end='',flush = True)\n",
    "        count+=1\n",
    "        \n",
    "    return result"
   ]
  },
  {
   "cell_type": "code",
   "execution_count": 5,
   "metadata": {},
   "outputs": [
    {
     "name": "stdout",
     "output_type": "stream",
     "text": [
      "progress 100%"
     ]
    }
   ],
   "source": [
    "# getting the vocabulary from the given documents as dictionary\n",
    "vocab = get_vocabulary(x_train)"
   ]
  },
  {
   "cell_type": "code",
   "execution_count": 6,
   "metadata": {},
   "outputs": [],
   "source": [
    "# getting top 5000 words from vocabulary to use as feature for our dataset\n",
    "feature = sorted(vocab, key= vocab.get, reverse = True)[:5000]"
   ]
  },
  {
   "cell_type": "code",
   "execution_count": 7,
   "metadata": {},
   "outputs": [
    {
     "name": "stdout",
     "output_type": "stream",
     "text": [
      "progress 100%"
     ]
    }
   ],
   "source": [
    "# getting the dataset ready for training from x_train \n",
    "x_train_new= get_data(x_train,feature)"
   ]
  },
  {
   "cell_type": "code",
   "execution_count": 8,
   "metadata": {},
   "outputs": [
    {
     "name": "stdout",
     "output_type": "stream",
     "text": [
      "progress 100%"
     ]
    }
   ],
   "source": [
    "# getting the dataset ready for testing from x_test\n",
    "x_test_new = get_data(x_test,feature)"
   ]
  },
  {
   "cell_type": "markdown",
   "metadata": {},
   "source": [
    "## Using sklearn MultinomialNB classifier to get the predictions"
   ]
  },
  {
   "cell_type": "code",
   "execution_count": 9,
   "metadata": {},
   "outputs": [
    {
     "data": {
      "text/plain": [
       "(0.9179728933411904, 0.848356309650053)"
      ]
     },
     "execution_count": 9,
     "metadata": {},
     "output_type": "execute_result"
    }
   ],
   "source": [
    "clf = MultinomialNB()\n",
    "clf.fit(x_train_new,y_train) # fitting the train data into the classifier\n",
    "y_pred = clf.predict(x_test_new) # predicting the output for test data\n",
    "clf.score(x_train_new,y_train),clf.score(x_test_new,y_test) # getting the score for the classifier"
   ]
  },
  {
   "cell_type": "code",
   "execution_count": 10,
   "metadata": {},
   "outputs": [
    {
     "name": "stdout",
     "output_type": "stream",
     "text": [
      "              precision    recall  f1-score   support\n",
      "\n",
      "           0       0.80      0.90      0.85       112\n",
      "           1       0.68      0.82      0.74       147\n",
      "           2       0.85      0.79      0.81       140\n",
      "           3       0.69      0.69      0.69       148\n",
      "           4       0.71      0.84      0.77       149\n",
      "           5       0.86      0.81      0.83       159\n",
      "           6       0.71      0.79      0.75       131\n",
      "           7       0.83      0.82      0.83       158\n",
      "           8       0.89      0.88      0.89       162\n",
      "           9       0.92      0.95      0.93       148\n",
      "          10       0.95      0.96      0.96       150\n",
      "          11       0.99      0.92      0.95       155\n",
      "          12       0.83      0.73      0.78       147\n",
      "          13       0.97      0.87      0.92       131\n",
      "          14       0.92      0.92      0.92       154\n",
      "          15       0.94      0.90      0.92       155\n",
      "          16       0.89      0.91      0.90       144\n",
      "          17       0.95      0.88      0.91       144\n",
      "          18       0.82      0.81      0.82       108\n",
      "          19       0.84      0.71      0.77        87\n",
      "\n",
      "    accuracy                           0.85      2829\n",
      "   macro avg       0.85      0.85      0.85      2829\n",
      "weighted avg       0.85      0.85      0.85      2829\n",
      "\n",
      "[[101   0   0   0   0   0   0   0   0   0   0   0   0   0   0   4   0   1\n",
      "    2   4]\n",
      " [  0 121   5   5   1   6   4   0   1   0   0   0   3   1   0   0   0   0\n",
      "    0   0]\n",
      " [  0   4 110  13   1   5   5   0   0   0   0   0   1   1   0   0   0   0\n",
      "    0   0]\n",
      " [  0  10   6 102  19   1   5   0   0   0   0   0   4   0   1   0   0   0\n",
      "    0   0]\n",
      " [  0   3   0   9 125   1   6   1   0   0   0   0   4   0   0   0   0   0\n",
      "    0   0]\n",
      " [  0  19   5   2   1 128   0   0   1   0   0   0   1   1   0   0   0   0\n",
      "    1   0]\n",
      " [  1   0   0   6   7   1 104   3   3   0   3   0   1   0   1   0   1   0\n",
      "    0   0]\n",
      " [  0   1   0   0   5   0   7 130   5   2   0   0   2   1   2   0   2   0\n",
      "    0   1]\n",
      " [  0   1   0   3   0   0   3   7 143   1   0   0   0   0   2   0   2   0\n",
      "    0   0]\n",
      " [  0   2   0   0   0   0   3   0   0 141   2   0   0   0   0   0   0   0\n",
      "    0   0]\n",
      " [  0   0   0   0   0   0   0   1   1   4 144   0   0   0   0   0   0   0\n",
      "    0   0]\n",
      " [  0   2   0   0   0   3   1   0   0   0   0 142   3   0   0   0   3   1\n",
      "    0   0]\n",
      " [  0   6   3   7  13   1   1   7   0   0   1   0 107   0   1   0   0   0\n",
      "    0   0]\n",
      " [  0   1   1   0   1   2   2   1   0   0   0   1   1 114   4   1   0   0\n",
      "    1   1]\n",
      " [  1   5   0   0   0   0   0   0   2   3   1   0   1   0 141   0   0   0\n",
      "    0   0]\n",
      " [  5   1   0   0   0   0   2   0   0   1   0   0   0   0   1 139   0   2\n",
      "    2   2]\n",
      " [  0   0   0   0   0   0   2   3   1   1   0   0   0   0   0   0 131   0\n",
      "    5   1]\n",
      " [  1   2   0   0   2   0   0   0   2   0   0   0   1   0   0   1   1 127\n",
      "    5   2]\n",
      " [  6   1   0   0   0   0   1   2   1   1   0   1   0   0   0   0   3   3\n",
      "   88   1]\n",
      " [ 11   0   0   0   0   0   1   1   1   0   0   0   0   0   0   3   5   0\n",
      "    3  62]]\n"
     ]
    }
   ],
   "source": [
    "report_sklearn = classification_report(y_test,y_pred) #getting the classification report for sklearn MultinomialNB classifier\n",
    "print(classification_report(y_test,y_pred)) # printing the classification report\n",
    "print(confusion_matrix(y_test,y_pred)) # printing the confusion matrix"
   ]
  },
  {
   "cell_type": "markdown",
   "metadata": {},
   "source": [
    "## Implementing Naive Bayes from scratch for text classification. "
   ]
  },
  {
   "cell_type": "code",
   "execution_count": 11,
   "metadata": {},
   "outputs": [],
   "source": [
    "# fit fuction\n",
    "def fit(x_train,y_train):\n",
    "    result={} #making a dictionary for whole data\n",
    "    class_names = set(y_train) # getting the names of all the unique classes using set\n",
    "    result['total_data']= 0 # initializing the total word count as zero\n",
    "\n",
    "    for c in class_names: # going through all the classes\n",
    "        result[c]={} # making a dictionary for current class\n",
    "        x_train_current = x_train[y_train == c] # getting the train data for current class\n",
    "        y_train_current = y_train[y_train == c] # getting the target data for current class\n",
    "        result[c]['total_class_count'] = 0 # intializing the total word count in a particualr class\n",
    "        num_feature = x_train.shape[1] #getting the total length of all feature \n",
    "        \n",
    "        for i in range(num_feature): # going through all the feature\n",
    "            result[c][i] = x_train_current[:,i].sum() #updating the count of ith word in current class\n",
    "            result[c]['total_class_count'] += result[c][i] # updating the total coount of words for current class\n",
    "        \n",
    "        result['total_data'] += result[c]['total_class_count'] # updating the total word count\n",
    "    \n",
    "    return result\n",
    "\n",
    "# function to find the probability\n",
    "# here I have used log to get rid of very small numbers as all the probabilities are going to get multiplied\n",
    "# using the multinomial Naive Bayes formula to calucate the probality with the Laplace Correction\n",
    "def probability(x,dic,current_class):\n",
    "    # initializing the ans with the probability for the current class\n",
    "    ans = np.log(dic[current_class]['total_class_count']) - np.log(dic['total_data'])\n",
    "    feature_counts = len(x) # getting the total feature count from data\n",
    "    \n",
    "    for i in range(feature_counts): # going through all the feature\n",
    "        x_i = x[i] # getting the ith feature value\n",
    "        if x_i==0: # ignoring the feature having the zero value to avoid the unnecessary calculation\n",
    "            continue\n",
    "        #finding the probability with log function\n",
    "        count_current_feature = dic[current_class][i] + 1\n",
    "        count_current_total = dic[current_class]['total_class_count'] + feature_counts\n",
    "        current_x_i_prob = np.log(count_current_feature) - np.log(count_current_total)\n",
    "        # adding the log probability to initial ans \n",
    "        ans += current_x_i_prob\n",
    "\n",
    "    return ans\n",
    "\n",
    "# getting the best class for given data\n",
    "def best_class(x,dic):\n",
    "    class_names = dic.keys() # getting the class from dictionary\n",
    "    best_p = -10000 # initializing the best probability\n",
    "    best_class = -1 # initializing the beset class\n",
    "    first_run = True # using a variable so that we can find the class for the first time run in order to get the best class\n",
    "    for current_class in class_names: # going through all the classes\n",
    "        if current_class == 'total_data': # ignoring the dictionary key named total_data\n",
    "            continue\n",
    "        prob_current = probability(x,dic,current_class) # getting the probability of the current class\n",
    "        # updating the best probability and best class if current class prabability is greater than the best probability\n",
    "        if first_run or prob_current>best_p:\n",
    "            best_p = prob_current\n",
    "            best_class = current_class\n",
    "        first_run = False\n",
    "    \n",
    "    return best_class\n",
    "\n",
    "# predict function to predict the target\n",
    "def predict(x_test,dic):\n",
    "    y_pred = [] # intializing the target list\n",
    "    count=1\n",
    "    for d in x_test: # going through all the x_test data\n",
    "        x_class = best_class(d,dic) # getting the best class for given data\n",
    "        y_pred.append(x_class) # updating the target list\n",
    "        \n",
    "        # to get the idea about the progess, it prints the progress of this function\n",
    "        if count%5 ==0:\n",
    "            perc= count*100//len(x_test)\n",
    "            if perc<=98:\n",
    "                print('\\rprogress ',perc+2,'%',sep='',end='',flush = True)\n",
    "        count+=1\n",
    "        \n",
    "    return y_pred"
   ]
  },
  {
   "cell_type": "code",
   "execution_count": 12,
   "metadata": {},
   "outputs": [],
   "source": [
    "# fitting the train data into my own classifier and getting a dictionary\n",
    "dic = fit(x_train_new,y_train)"
   ]
  },
  {
   "cell_type": "code",
   "execution_count": 13,
   "metadata": {},
   "outputs": [
    {
     "name": "stdout",
     "output_type": "stream",
     "text": [
      "progress 100%"
     ]
    }
   ],
   "source": [
    "# using the dictionary I got from the fiitng the data predicting the output\n",
    "y_p = predict(x_test_new,dic)"
   ]
  },
  {
   "cell_type": "code",
   "execution_count": 14,
   "metadata": {},
   "outputs": [
    {
     "name": "stdout",
     "output_type": "stream",
     "text": [
      "              precision    recall  f1-score   support\n",
      "\n",
      "           0       0.81      0.90      0.86       112\n",
      "           1       0.69      0.81      0.75       147\n",
      "           2       0.80      0.74      0.77       140\n",
      "           3       0.72      0.69      0.70       148\n",
      "           4       0.71      0.83      0.77       149\n",
      "           5       0.87      0.79      0.83       159\n",
      "           6       0.68      0.80      0.73       131\n",
      "           7       0.84      0.82      0.83       158\n",
      "           8       0.90      0.90      0.90       162\n",
      "           9       0.96      0.95      0.96       148\n",
      "          10       0.97      0.97      0.97       150\n",
      "          11       0.98      0.92      0.95       155\n",
      "          12       0.83      0.75      0.79       147\n",
      "          13       0.94      0.89      0.91       131\n",
      "          14       0.91      0.90      0.91       154\n",
      "          15       0.91      0.89      0.90       155\n",
      "          16       0.87      0.93      0.90       144\n",
      "          17       0.93      0.88      0.90       144\n",
      "          18       0.84      0.85      0.84       108\n",
      "          19       0.82      0.64      0.72        87\n",
      "\n",
      "    accuracy                           0.85      2829\n",
      "   macro avg       0.85      0.84      0.84      2829\n",
      "weighted avg       0.85      0.85      0.85      2829\n",
      "\n",
      "[[101   0   0   0   0   0   0   0   0   0   0   0   0   0   0   3   0   2\n",
      "    3   3]\n",
      " [  0 119   8   4   2   6   4   0   1   0   0   0   1   1   1   0   0   0\n",
      "    0   0]\n",
      " [  0   4 104  14   3   4   5   0   0   0   0   1   4   1   0   0   0   0\n",
      "    0   0]\n",
      " [  0  11   6 102  18   1   6   0   0   0   0   0   2   0   2   0   0   0\n",
      "    0   0]\n",
      " [  0   3   2   7 124   1   6   1   0   0   0   0   5   0   0   0   0   0\n",
      "    0   0]\n",
      " [  1  19   6   2   1 125   0   0   1   0   0   0   1   1   2   0   0   0\n",
      "    0   0]\n",
      " [  1   0   1   5   6   0 105   5   2   0   1   0   2   0   1   0   1   1\n",
      "    0   0]\n",
      " [  0   0   0   0   5   0   9 130   3   0   0   0   3   2   2   0   2   0\n",
      "    0   2]\n",
      " [  0   1   0   3   0   0   4   6 145   0   0   0   0   0   1   0   2   0\n",
      "    0   0]\n",
      " [  0   1   0   0   1   0   3   0   0 141   2   0   0   0   0   0   0   0\n",
      "    0   0]\n",
      " [  0   0   0   0   0   0   1   1   1   2 145   0   0   0   0   0   0   0\n",
      "    0   0]\n",
      " [  0   3   0   0   0   4   0   0   0   0   0 143   1   0   0   0   3   1\n",
      "    0   0]\n",
      " [  0   3   2   5  12   2   3   7   0   0   1   0 110   0   0   0   1   0\n",
      "    1   0]\n",
      " [  0   2   1   0   0   1   2   1   1   0   0   1   1 116   3   2   0   0\n",
      "    0   0]\n",
      " [  1   4   0   0   0   0   0   0   3   3   0   0   2   0 139   1   0   0\n",
      "    1   0]\n",
      " [  5   1   0   0   1   0   2   0   0   0   0   0   0   1   1 138   0   2\n",
      "    1   3]\n",
      " [  0   0   0   0   0   0   2   3   1   0   0   0   0   0   0   0 134   0\n",
      "    4   0]\n",
      " [  1   1   0   0   2   0   0   0   2   0   0   0   1   0   0   1   2 127\n",
      "    5   2]\n",
      " [  3   0   0   0   0   0   2   1   1   1   0   1   0   0   0   0   2   3\n",
      "   92   2]\n",
      " [ 11   0   0   0   0   0   1   0   1   0   0   0   0   1   0   6   7   1\n",
      "    3  56]]\n"
     ]
    }
   ],
   "source": [
    "report_manual= classification_report(y_test,y_p) #getting the classification report for my own classifier\n",
    "print(classification_report(y_test,y_p)) # printing the classification report\n",
    "print(confusion_matrix(y_test,y_p)) # printing the confusion matrix"
   ]
  },
  {
   "cell_type": "markdown",
   "metadata": {},
   "source": [
    "## Comparing the f1-score of sklearn_classifier and my_own_classifier for text_classification using Naive_Bayes"
   ]
  },
  {
   "cell_type": "code",
   "execution_count": 19,
   "metadata": {},
   "outputs": [
    {
     "data": {
      "image/png": "[encoded data removed]",
      "text/plain": [
       "<Figure size 1152x288 with 1 Axes>"
      ]
     },
     "metadata": {
      "needs_background": "light"
     },
     "output_type": "display_data"
    }
   ],
   "source": [
    "# gettign the f1-score for sklearn_classifier and my_own_classifier\n",
    "f1_score_manual = [] \n",
    "f1_score_sklearn = []\n",
    "for i in range(2,22):\n",
    "    f1_score_manual.append(float(report_manual.split('\\n')[i].split()[3]))\n",
    "    f1_score_sklearn.append(float(report_sklearn.split('\\n')[i].split()[3]))\n",
    "\n",
    "plt.subplots(figsize=(16,4)) # setting the size of plot\n",
    "plt.plot(target_names,f1_score_manual, label = 'manual_classifier',color='blue') # plotting the f1-score for my own classifier\n",
    "plt.plot(target_names,f1_score_sklearn,label='sklearn_classifier',color='red') # plotting the f1=score for sklearn classifier\n",
    "plt.axis([None,None,0,1]) # fixing the y_axis from 0 to 1\n",
    "plt.legend()\n",
    "plt.xticks(rotation = 90,size=14) \n",
    "plt.xlabel('Classes',size=17) # printing the x label\n",
    "plt.ylabel('f1_score',size=17) # printing the y label\n",
    "plt.title('Comparision of f1-score of sklearn_classifier and manual_classifier',size=18) # printing the title\n",
    "plt.show()"
   ]
  }
 ],
 "metadata": {
  "kernelspec": {
   "display_name": "Python 3",
   "language": "python",
   "name": "python3"
  },
  "language_info": {
   "codemirror_mode": {
    "name": "ipython",
    "version": 3
   },
   "file_extension": ".py",
   "mimetype": "text/x-python",
   "name": "python",
   "nbconvert_exporter": "python",
   "pygments_lexer": "ipython3",
   "version": "3.8.3"
  }
 },
 "nbformat": 4,
 "nbformat_minor": 4
}
